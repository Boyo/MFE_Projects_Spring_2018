{
 "cells": [
  {
   "cell_type": "code",
   "execution_count": 1,
   "metadata": {
    "collapsed": true
   },
   "outputs": [],
   "source": [
    "import numpy as np\n",
    "import math\n",
    "from random import *\n",
    "import matplotlib.pyplot as plt"
   ]
  },
  {
   "cell_type": "raw",
   "metadata": {},
   "source": [
    "(a) We generate 10000 times three weights w1, w2, w3 and we deduce w4"
   ]
  },
  {
   "cell_type": "code",
   "execution_count": 2,
   "metadata": {
    "collapsed": true
   },
   "outputs": [],
   "source": [
    "mu, sigma = 0, 0.5 # mean and standard deviation\n",
    "s1 = np.random.normal(mu, sigma, 10000) #w1\n",
    "s2 = np.random.normal(mu, sigma, 10000) #w2\n",
    "s3 = np.random.normal(mu, sigma, 10000) #w3\n",
    "s4=1-s1-s2-s3"
   ]
  },
  {
   "cell_type": "code",
   "execution_count": 3,
   "metadata": {
    "collapsed": true
   },
   "outputs": [],
   "source": [
    "expected_returns=np.array([ 1.10, 1.12,1.07,1.025,])\n",
    "returns=s1*expected_returns[0]+s2*expected_returns[1]+s3*expected_returns[2]+s4*expected_returns[3]\n",
    "covariance_matrix=np.array([[0.06,0.0377,0.0259],[0.0377,0.0950,0.0285],[0.0259,0.0285,0.07]])\n",
    "\n",
    "weights=np.column_stack((s1,s2,s3))\n",
    "variance=[]\n",
    "for i in range(0,10000):\n",
    "    variance=variance+[math.sqrt(np.dot(np.dot(weights[i,:],covariance_matrix),weights[i,:].T))]\n"
   ]
  },
  {
   "cell_type": "code",
   "execution_count": 4,
   "metadata": {},
   "outputs": [
    {
     "data": {
      "image/png": "[encoded data removed]",
      "text/plain": [
       "<matplotlib.figure.Figure at 0x1ef94d46518>"
      ]
     },
     "metadata": {},
     "output_type": "display_data"
    }
   ],
   "source": [
    "plt.plot(variance,returns,'bx')\n",
    "plt.xlabel('Standard Deviation')\n",
    "plt.ylabel('Returns')\n",
    "plt.title('Mean-variance analysis of 10000 portfolios')\n",
    "plt.show()\n"
   ]
  },
  {
   "cell_type": "raw",
   "metadata": {},
   "source": [
    "(b) We compute the one mean-variance efficient portfolio:"
   ]
  },
  {
   "cell_type": "code",
   "execution_count": 5,
   "metadata": {},
   "outputs": [
    {
     "name": "stdout",
     "output_type": "stream",
     "text": [
      "Mean 1.151234693\n",
      "Stdev 0.35529521949545656\n",
      "Sharpe Ratio 0.355295219495\n"
     ]
    }
   ],
   "source": [
    "risky_returns=np.array([1.1,1.12,1.07])\n",
    "w=np.dot(np.linalg.inv(covariance_matrix),risky_returns-1.025)\n",
    "w_s4=1-sum(w)\n",
    "\n",
    "returns=sum(w*risky_returns)+w_s4*1.025\n",
    "variance=np.dot(np.dot(w.T,covariance_matrix),w)\n",
    "stdev=math.sqrt(variance)\n",
    "sharpe_ratio=(returns-1.025)/stdev\n",
    "print(\"Mean\", returns)\n",
    "print(\"Stdev\", stdev)\n",
    "print(\"Sharpe Ratio\", sharpe_ratio)\n"
   ]
  },
  {
   "cell_type": "code",
   "execution_count": 6,
   "metadata": {},
   "outputs": [
    {
     "name": "stdout",
     "output_type": "stream",
     "text": [
      "[ 0.80294532  0.6579969   0.07786864] -0.538810855648\n"
     ]
    }
   ],
   "source": [
    "print(w,w_s4)"
   ]
  },
  {
   "cell_type": "code",
   "execution_count": 7,
   "metadata": {},
   "outputs": [
    {
     "name": "stdout",
     "output_type": "stream",
     "text": [
      "[ 0.52179598  0.42760089  0.05060312]\n",
      "Mean 1.10703392414\n",
      "Stdev 0.23088946779352756\n",
      "Sharpe Ratio 0.355295219495\n"
     ]
    }
   ],
   "source": [
    "#(d)\n",
    "norm=sum(w)\n",
    "w=w/norm\n",
    "print(w)\n",
    "returns=sum(w*risky_returns)\n",
    "variance=np.dot(np.dot(w.T,covariance_matrix),w)\n",
    "stdev=math.sqrt(variance)\n",
    "sharpe_ratio=(returns-1.025)/stdev\n",
    "print(\"Mean\", returns)\n",
    "print(\"Stdev\", stdev)\n",
    "print(\"Sharpe Ratio\", sharpe_ratio)\n"
   ]
  },
  {
   "cell_type": "code",
   "execution_count": 12,
   "metadata": {},
   "outputs": [
    {
     "name": "stdout",
     "output_type": "stream",
     "text": [
      "Cov 1:  0.0487389335244\n",
      "Cov 2:  0.0617359824642\n",
      "Cov 3:  0.0292433601146\n",
      "Beta 1:  0.914255910433\n",
      "Beta 2:  1.15805748655\n",
      "Beta 3:  0.54855354626\n"
     ]
    }
   ],
   "source": [
    "#(e)\n",
    "Cov1=np.dot(np.dot(np.array([1,0,0]),covariance_matrix),w)\n",
    "Cov2=np.dot(np.dot(np.array([0,1,0]),covariance_matrix),w)\n",
    "Cov3=np.dot(np.dot(np.array([0,0,1]),covariance_matrix),w)\n",
    "Beta1=Cov1/variance\n",
    "Beta2=Cov2/variance\n",
    "Beta3=Cov3/variance\n",
    "\n",
    "print(\"Cov 1: \",Cov1)\n",
    "print(\"Cov 2: \",Cov2)\n",
    "print(\"Cov 3: \",Cov3)\n",
    "\n",
    "print(\"Beta 1: \",Beta1)\n",
    "print(\"Beta 2: \",Beta2)\n",
    "print(\"Beta 3: \",Beta3)"
   ]
  },
  {
   "cell_type": "code",
   "execution_count": 13,
   "metadata": {},
   "outputs": [
    {
     "name": "stdout",
     "output_type": "stream",
     "text": [
      "w1:  [ 0.40147266  0.32899845  0.03893432]\n",
      "w2:  [ 0.16058906  0.13159938  0.01557373]\n"
     ]
    }
   ],
   "source": [
    "#(f)\n",
    "Gamma1=2\n",
    "w1=np.dot(np.linalg.inv(covariance_matrix),risky_returns-1.025)/Gamma1\n",
    "Gamma2=5\n",
    "w2=np.dot(np.linalg.inv(covariance_matrix),risky_returns-1.025)/Gamma2\n",
    "print(\"w1: \",w1)\n",
    "print(\"w2: \",w2)"
   ]
  },
  {
   "cell_type": "code",
   "execution_count": 15,
   "metadata": {},
   "outputs": [
    {
     "name": "stdout",
     "output_type": "stream",
     "text": [
      "w1_rf:  0.230594572176\n",
      "w2_rf:  0.69223782887\n"
     ]
    }
   ],
   "source": [
    "w1_rf=1-sum(w1)\n",
    "w2_rf=1-sum(w2)\n",
    "print(\"w1_rf: \",w1_rf)\n",
    "print(\"w2_rf: \",w2_rf)"
   ]
  },
  {
   "cell_type": "code",
   "execution_count": 16,
   "metadata": {},
   "outputs": [
    {
     "name": "stdout",
     "output_type": "stream",
     "text": [
      "Gamma = 2\n",
      "Mean 1.0881173465\n",
      "Stdev 0.17764760974772828\n",
      "Sharpe Ratio 0.355295219495\n",
      "Gamma = 5\n",
      "Mean 1.0502469386\n",
      "Stdev 0.07105904389909132\n",
      "Sharpe Ratio 0.355295219495\n"
     ]
    }
   ],
   "source": [
    "# Gamma = 2\n",
    "print(\"Gamma = 2\")\n",
    "returns1=sum(w1*risky_returns)+w1_rf*1.025\n",
    "variance1=np.dot(np.dot(w1.T,covariance_matrix),w1)\n",
    "stdev1=math.sqrt(variance1)\n",
    "sharpe_ratio1=(returns1-1.025)/stdev1\n",
    "print(\"Mean\", returns1)\n",
    "print(\"Stdev\", stdev1)\n",
    "print(\"Sharpe Ratio\", sharpe_ratio1)\n",
    "\n",
    "# Gamma = 5\n",
    "print(\"Gamma = 5\")\n",
    "returns2=sum(w2*risky_returns)+w2_rf*1.025\n",
    "variance2=np.dot(np.dot(w2.T,covariance_matrix),w2)\n",
    "stdev2=math.sqrt(variance2)\n",
    "sharpe_ratio2=(returns2-1.025)/stdev2\n",
    "print(\"Mean\", returns2)\n",
    "print(\"Stdev\", stdev2)\n",
    "print(\"Sharpe Ratio\", sharpe_ratio2)"
   ]
  },
  {
   "cell_type": "code",
   "execution_count": null,
   "metadata": {
    "collapsed": true
   },
   "outputs": [],
   "source": []
  }
 ],
 "metadata": {
  "kernelspec": {
   "display_name": "Python 3",
   "language": "python",
   "name": "python3"
  },
  "language_info": {
   "codemirror_mode": {
    "name": "ipython",
    "version": 3
   },
   "file_extension": ".py",
   "mimetype": "text/x-python",
   "name": "python",
   "nbconvert_exporter": "python",
   "pygments_lexer": "ipython3",
   "version": "3.6.3"
  }
 },
 "nbformat": 4,
 "nbformat_minor": 2
}
