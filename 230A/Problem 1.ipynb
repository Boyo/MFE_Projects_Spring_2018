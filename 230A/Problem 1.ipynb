{
 "cells": [
  {
   "cell_type": "code",
   "execution_count": 1,
   "metadata": {
    "collapsed": true
   },
   "outputs": [],
   "source": [
    "import numpy as np\n",
    "import math\n",
    "from random import *\n",
    "import matplotlib.pyplot as plt\n",
    "import pandas as pd"
   ]
  },
  {
   "cell_type": "markdown",
   "metadata": {},
   "source": [
    "# Problem 1"
   ]
  },
  {
   "cell_type": "raw",
   "metadata": {},
   "source": [
    "(a) We generate 10000 times three weights w1, w2, w3 and we deduce w4"
   ]
  },
  {
   "cell_type": "code",
   "execution_count": 2,
   "metadata": {
    "collapsed": true
   },
   "outputs": [],
   "source": [
    "mu, sigma = 0, 0.5 # mean and standard deviation\n",
    "s1 = np.random.normal(mu, sigma, 10000) #w1\n",
    "s2 = np.random.normal(mu, sigma, 10000) #w2\n",
    "s3 = np.random.normal(mu, sigma, 10000) #w3\n",
    "s4=1-s1-s2-s3"
   ]
  },
  {
   "cell_type": "code",
   "execution_count": 3,
   "metadata": {
    "collapsed": true
   },
   "outputs": [],
   "source": [
    "expected_returns=np.array([ 1.10, 1.12,1.07,1.025,])\n",
    "returns=s1*expected_returns[0]+s2*expected_returns[1]+s3*expected_returns[2]+s4*expected_returns[3]\n",
    "covariance_matrix=np.array([[0.06,0.0377,0.0259],[0.0377,0.0950,0.0285],[0.0259,0.0285,0.07]])\n",
    "\n",
    "weights=np.column_stack((s1,s2,s3))\n",
    "variance=[]\n",
    "for i in range(0,10000):\n",
    "    variance=variance+[math.sqrt(np.dot(np.dot(weights[i,:],covariance_matrix),weights[i,:].T))]\n"
   ]
  },
  {
   "cell_type": "code",
   "execution_count": 4,
   "metadata": {},
   "outputs": [
    {
     "data": {
      "image/png": "[encoded data removed]",
      "text/plain": [
       "<matplotlib.figure.Figure at 0x2427499fc18>"
      ]
     },
     "metadata": {},
     "output_type": "display_data"
    }
   ],
   "source": [
    "plt.plot(variance,returns,'bx')\n",
    "plt.xlabel('Standard Deviation')\n",
    "plt.ylabel('Returns')\n",
    "plt.title('Mean-variance analysis of 10000 portfolios')\n",
    "plt.show()\n"
   ]
  },
  {
   "cell_type": "raw",
   "metadata": {},
   "source": [
    "(b) We compute the one mean-variance efficient portfolio:"
   ]
  },
  {
   "cell_type": "code",
   "execution_count": 5,
   "metadata": {},
   "outputs": [
    {
     "name": "stdout",
     "output_type": "stream",
     "text": [
      "Mean 1.151234693\n",
      "Stdev 0.35529521949545656\n",
      "Sharpe Ratio 0.355295219495\n"
     ]
    }
   ],
   "source": [
    "risky_returns=np.array([1.1,1.12,1.07])\n",
    "w=np.dot(np.linalg.inv(covariance_matrix),risky_returns-1.025)\n",
    "w_s4=1-sum(w)\n",
    "\n",
    "returns=sum(w*risky_returns)+w_s4*1.025\n",
    "variance=np.dot(np.dot(w.T,covariance_matrix),w)\n",
    "stdev=math.sqrt(variance)\n",
    "sharpe_ratio=(returns-1.025)/stdev\n",
    "print(\"Mean\", returns)\n",
    "print(\"Stdev\", stdev)\n",
    "print(\"Sharpe Ratio\", sharpe_ratio)\n"
   ]
  },
  {
   "cell_type": "code",
   "execution_count": 6,
   "metadata": {},
   "outputs": [
    {
     "name": "stdout",
     "output_type": "stream",
     "text": [
      "[ 0.80294532  0.6579969   0.07786864] -0.538810855648\n"
     ]
    }
   ],
   "source": [
    "print(w,w_s4)"
   ]
  },
  {
   "cell_type": "code",
   "execution_count": 7,
   "metadata": {},
   "outputs": [
    {
     "name": "stdout",
     "output_type": "stream",
     "text": [
      "[ 0.52179598  0.42760089  0.05060312]\n",
      "Mean 1.10703392414\n",
      "Stdev 0.23088946779352756\n",
      "Sharpe Ratio 0.355295219495\n"
     ]
    }
   ],
   "source": [
    "#(d)\n",
    "norm=sum(w)\n",
    "w=w/norm\n",
    "print(w)\n",
    "returns=sum(w*risky_returns)\n",
    "variance=np.dot(np.dot(w.T,covariance_matrix),w)\n",
    "stdev=math.sqrt(variance)\n",
    "sharpe_ratio=(returns-1.025)/stdev\n",
    "print(\"Mean\", returns)\n",
    "print(\"Stdev\", stdev)\n",
    "print(\"Sharpe Ratio\", sharpe_ratio)\n"
   ]
  },
  {
   "cell_type": "code",
   "execution_count": 8,
   "metadata": {},
   "outputs": [
    {
     "name": "stdout",
     "output_type": "stream",
     "text": [
      "Cov 1:  0.0487389335244\n",
      "Cov 2:  0.0617359824642\n",
      "Cov 3:  0.0292433601146\n",
      "Beta 1:  0.914255910433\n",
      "Beta 2:  1.15805748655\n",
      "Beta 3:  0.54855354626\n"
     ]
    }
   ],
   "source": [
    "#(e)\n",
    "Cov1=np.dot(np.dot(np.array([1,0,0]),covariance_matrix),w)\n",
    "Cov2=np.dot(np.dot(np.array([0,1,0]),covariance_matrix),w)\n",
    "Cov3=np.dot(np.dot(np.array([0,0,1]),covariance_matrix),w)\n",
    "Beta1=Cov1/variance\n",
    "Beta2=Cov2/variance\n",
    "Beta3=Cov3/variance\n",
    "\n",
    "print(\"Cov 1: \",Cov1)\n",
    "print(\"Cov 2: \",Cov2)\n",
    "print(\"Cov 3: \",Cov3)\n",
    "\n",
    "print(\"Beta 1: \",Beta1)\n",
    "print(\"Beta 2: \",Beta2)\n",
    "print(\"Beta 3: \",Beta3)"
   ]
  },
  {
   "cell_type": "code",
   "execution_count": 9,
   "metadata": {},
   "outputs": [
    {
     "name": "stdout",
     "output_type": "stream",
     "text": [
      "w1:  [ 0.40147266  0.32899845  0.03893432]\n",
      "w2:  [ 0.16058906  0.13159938  0.01557373]\n"
     ]
    }
   ],
   "source": [
    "#(f)\n",
    "Gamma1=2\n",
    "w1=np.dot(np.linalg.inv(covariance_matrix),risky_returns-1.025)/Gamma1\n",
    "Gamma2=5\n",
    "w2=np.dot(np.linalg.inv(covariance_matrix),risky_returns-1.025)/Gamma2\n",
    "print(\"w1: \",w1)\n",
    "print(\"w2: \",w2)"
   ]
  },
  {
   "cell_type": "code",
   "execution_count": 10,
   "metadata": {},
   "outputs": [
    {
     "name": "stdout",
     "output_type": "stream",
     "text": [
      "w1_rf:  0.230594572176\n",
      "w2_rf:  0.69223782887\n"
     ]
    }
   ],
   "source": [
    "w1_rf=1-sum(w1)\n",
    "w2_rf=1-sum(w2)\n",
    "print(\"w1_rf: \",w1_rf)\n",
    "print(\"w2_rf: \",w2_rf)"
   ]
  },
  {
   "cell_type": "code",
   "execution_count": 11,
   "metadata": {},
   "outputs": [
    {
     "name": "stdout",
     "output_type": "stream",
     "text": [
      "Gamma = 2\n",
      "Mean 1.0881173465\n",
      "Stdev 0.17764760974772828\n",
      "Sharpe Ratio 0.355295219495\n",
      "Gamma = 5\n",
      "Mean 1.0502469386\n",
      "Stdev 0.07105904389909132\n",
      "Sharpe Ratio 0.355295219495\n"
     ]
    }
   ],
   "source": [
    "# Gamma = 2\n",
    "print(\"Gamma = 2\")\n",
    "returns1=sum(w1*risky_returns)+w1_rf*1.025\n",
    "variance1=np.dot(np.dot(w1.T,covariance_matrix),w1)\n",
    "stdev1=math.sqrt(variance1)\n",
    "sharpe_ratio1=(returns1-1.025)/stdev1\n",
    "print(\"Mean\", returns1)\n",
    "print(\"Stdev\", stdev1)\n",
    "print(\"Sharpe Ratio\", sharpe_ratio1)\n",
    "\n",
    "# Gamma = 5\n",
    "print(\"Gamma = 5\")\n",
    "returns2=sum(w2*risky_returns)+w2_rf*1.025\n",
    "variance2=np.dot(np.dot(w2.T,covariance_matrix),w2)\n",
    "stdev2=math.sqrt(variance2)\n",
    "sharpe_ratio2=(returns2-1.025)/stdev2\n",
    "print(\"Mean\", returns2)\n",
    "print(\"Stdev\", stdev2)\n",
    "print(\"Sharpe Ratio\", sharpe_ratio2)"
   ]
  },
  {
   "cell_type": "markdown",
   "metadata": {
    "collapsed": true
   },
   "source": [
    "# Problem 2"
   ]
  },
  {
   "cell_type": "code",
   "execution_count": 12,
   "metadata": {},
   "outputs": [
    {
     "name": "stderr",
     "output_type": "stream",
     "text": [
      "C:\\ProgramData\\Anaconda3\\lib\\site-packages\\ipykernel_launcher.py:5: FutureWarning: convert_objects is deprecated.  Use the data-type specific converters pd.to_datetime, pd.to_timedelta and pd.to_numeric.\n",
      "  \"\"\"\n",
      "C:\\ProgramData\\Anaconda3\\lib\\site-packages\\pandas\\core\\frame.py:2352: SettingWithCopyWarning: \n",
      "A value is trying to be set on a copy of a slice from a DataFrame.\n",
      "Try using .loc[row_indexer,col_indexer] = value instead\n",
      "\n",
      "See the caveats in the documentation: http://pandas.pydata.org/pandas-docs/stable/indexing.html#indexing-view-versus-copy\n",
      "  self[k1] = value[k2]\n"
     ]
    },
    {
     "data": {
      "text/html": [
       "<div>\n",
       "<style>\n",
       "    .dataframe thead tr:only-child th {\n",
       "        text-align: right;\n",
       "    }\n",
       "\n",
       "    .dataframe thead th {\n",
       "        text-align: left;\n",
       "    }\n",
       "\n",
       "    .dataframe tbody tr th {\n",
       "        vertical-align: top;\n",
       "    }\n",
       "</style>\n",
       "<table border=\"1\" class=\"dataframe\">\n",
       "  <thead>\n",
       "    <tr style=\"text-align: right;\">\n",
       "      <th></th>\n",
       "      <th>Period</th>\n",
       "      <th>sp500</th>\n",
       "      <th>1m_Tbill</th>\n",
       "      <th>MCD</th>\n",
       "      <th>LUV</th>\n",
       "      <th>AIG</th>\n",
       "    </tr>\n",
       "  </thead>\n",
       "  <tbody>\n",
       "    <tr>\n",
       "      <th>6</th>\n",
       "      <td>19970131</td>\n",
       "      <td>0.061317</td>\n",
       "      <td>0.0045</td>\n",
       "      <td>0.002755</td>\n",
       "      <td>0.000000</td>\n",
       "      <td>0.118938</td>\n",
       "    </tr>\n",
       "    <tr>\n",
       "      <th>7</th>\n",
       "      <td>19970228</td>\n",
       "      <td>0.005928</td>\n",
       "      <td>0.0039</td>\n",
       "      <td>-0.047802</td>\n",
       "      <td>0.068707</td>\n",
       "      <td>-0.001032</td>\n",
       "    </tr>\n",
       "    <tr>\n",
       "      <th>8</th>\n",
       "      <td>19970331</td>\n",
       "      <td>-0.042614</td>\n",
       "      <td>0.0043</td>\n",
       "      <td>0.092486</td>\n",
       "      <td>-0.058511</td>\n",
       "      <td>-0.029132</td>\n",
       "    </tr>\n",
       "    <tr>\n",
       "      <th>9</th>\n",
       "      <td>19970430</td>\n",
       "      <td>0.058406</td>\n",
       "      <td>0.0043</td>\n",
       "      <td>0.132275</td>\n",
       "      <td>0.242938</td>\n",
       "      <td>0.094782</td>\n",
       "    </tr>\n",
       "    <tr>\n",
       "      <th>10</th>\n",
       "      <td>19970530</td>\n",
       "      <td>0.058577</td>\n",
       "      <td>0.0049</td>\n",
       "      <td>-0.059206</td>\n",
       "      <td>-0.063216</td>\n",
       "      <td>0.053502</td>\n",
       "    </tr>\n",
       "    <tr>\n",
       "      <th>11</th>\n",
       "      <td>19970630</td>\n",
       "      <td>0.043453</td>\n",
       "      <td>0.0037</td>\n",
       "      <td>-0.038557</td>\n",
       "      <td>0.004854</td>\n",
       "      <td>0.104155</td>\n",
       "    </tr>\n",
       "    <tr>\n",
       "      <th>12</th>\n",
       "      <td>19970731</td>\n",
       "      <td>0.078123</td>\n",
       "      <td>0.0043</td>\n",
       "      <td>0.112549</td>\n",
       "      <td>0.120773</td>\n",
       "      <td>0.069456</td>\n",
       "    </tr>\n",
       "    <tr>\n",
       "      <th>13</th>\n",
       "      <td>19970829</td>\n",
       "      <td>-0.057446</td>\n",
       "      <td>0.0041</td>\n",
       "      <td>-0.118233</td>\n",
       "      <td>-0.034084</td>\n",
       "      <td>-0.113850</td>\n",
       "    </tr>\n",
       "    <tr>\n",
       "      <th>14</th>\n",
       "      <td>19970930</td>\n",
       "      <td>0.053154</td>\n",
       "      <td>0.0044</td>\n",
       "      <td>0.006605</td>\n",
       "      <td>0.142857</td>\n",
       "      <td>0.094172</td>\n",
       "    </tr>\n",
       "    <tr>\n",
       "      <th>15</th>\n",
       "      <td>19971031</td>\n",
       "      <td>-0.034478</td>\n",
       "      <td>0.0042</td>\n",
       "      <td>-0.059055</td>\n",
       "      <td>0.019531</td>\n",
       "      <td>-0.010902</td>\n",
       "    </tr>\n",
       "  </tbody>\n",
       "</table>\n",
       "</div>"
      ],
      "text/plain": [
       "      Period     sp500  1m_Tbill       MCD       LUV       AIG\n",
       "6   19970131  0.061317    0.0045  0.002755  0.000000  0.118938\n",
       "7   19970228  0.005928    0.0039 -0.047802  0.068707 -0.001032\n",
       "8   19970331 -0.042614    0.0043  0.092486 -0.058511 -0.029132\n",
       "9   19970430  0.058406    0.0043  0.132275  0.242938  0.094782\n",
       "10  19970530  0.058577    0.0049 -0.059206 -0.063216  0.053502\n",
       "11  19970630  0.043453    0.0037 -0.038557  0.004854  0.104155\n",
       "12  19970731  0.078123    0.0043  0.112549  0.120773  0.069456\n",
       "13  19970829 -0.057446    0.0041 -0.118233 -0.034084 -0.113850\n",
       "14  19970930  0.053154    0.0044  0.006605  0.142857  0.094172\n",
       "15  19971031 -0.034478    0.0042 -0.059055  0.019531 -0.010902"
      ]
     },
     "execution_count": 12,
     "metadata": {},
     "output_type": "execute_result"
    }
   ],
   "source": [
    "workbook=pd.read_csv(\"PS3_q2_rawdata.csv\",header=0)\n",
    "headers=workbook.iloc[5,:].tolist()\n",
    "data=workbook.iloc[6:,:]\n",
    "data.columns = headers\n",
    "data[headers] = data[headers].convert_objects(convert_numeric=True)\n",
    "data.head(10)"
   ]
  },
  {
   "cell_type": "raw",
   "metadata": {},
   "source": [
    "(a) One factor model\n",
    "Here I have used matrix product (same method as the one used in 230E). You can use a statistics package to check that the linear regression is correct.\n",
    "Beta=inv(X.T*X)X.T*Y"
   ]
  },
  {
   "cell_type": "code",
   "execution_count": 15,
   "metadata": {},
   "outputs": [
    {
     "name": "stdout",
     "output_type": "stream",
     "text": [
      "Result for MCD:\n",
      "Alpha= 0.00634377539808\n",
      "Beta= 0.688447317206\n",
      "R squared= 0.996859415257\n",
      "Result for MCD:\n",
      "Alpha= 0.00882803894344\n",
      "Beta= 0.999483440509\n",
      "R squared= 0.996840913129\n",
      "Result for MCD:\n",
      "Alpha= 0.00207842806147\n",
      "Beta= 1.9686418017\n",
      "R squared= 0.996486713964\n"
     ]
    }
   ],
   "source": [
    "rf_return=data.iloc[:,2]\n",
    "n=len(rf_return)\n",
    "exreturn_SP500=data.iloc[:,1]-rf_return\n",
    "exreturn_MCD=data.iloc[:,3]-rf_return\n",
    "exreturn_LUV=data.iloc[:,4]-rf_return\n",
    "exreturn_AIG=data.iloc[:,5]-rf_return\n",
    "one= pd.Series(1, index=range(6,n+6))\n",
    "X=pd.concat([one, exreturn_SP500], axis=1)\n",
    "\n",
    "# MCD\n",
    "Beta_MCD=np.dot(np.linalg.inv(np.dot(X.T,X)),np.dot(X.T,exreturn_MCD))\n",
    "ss_res=ss_tot=0\n",
    "for k in range(0,len(one)):\n",
    "    ss_tot=ss_tot+np.power((exreturn_MCD.iloc[k]-exreturn_MCD.mean(0)),2)\n",
    "    ss_res=ss_res+np.power(exreturn_MCD.iloc[k]-(Beta_MCD[0]+exreturn_SP500.iloc[k]*Beta_MCD[1]),2)/n\n",
    "R_squared_MCD=1-ss_res/ss_tot\n",
    "print(\"Result for MCD:\")\n",
    "print(\"Alpha=\",Beta_MCD[0])\n",
    "print(\"Beta=\",Beta_MCD[1])\n",
    "print(\"R squared=\",R_squared_MCD)\n",
    "\n",
    "# LUV\n",
    "Beta_LUV=np.dot(np.linalg.inv(np.dot(X.T,X)),np.dot(X.T,exreturn_LUV))\n",
    "ss_res=ss_tot=0\n",
    "for k in range(0,len(one)):\n",
    "    ss_tot=ss_tot+np.power((exreturn_LUV.iloc[k]-exreturn_LUV.mean(0)),2)\n",
    "    ss_res=ss_res+np.power(exreturn_LUV.iloc[k]-(Beta_LUV[0]+exreturn_SP500.iloc[k]*Beta_LUV[1]),2)/n\n",
    "R_squared_LUV=1-ss_res/ss_tot\n",
    "print(\"Result for MCD:\")\n",
    "print(\"Alpha=\",Beta_LUV[0])\n",
    "print(\"Beta=\",Beta_LUV[1])\n",
    "print(\"R squared=\",R_squared_LUV)\n",
    "\n",
    "# AIG\n",
    "Beta_AIG=np.dot(np.linalg.inv(np.dot(X.T,X)),np.dot(X.T,exreturn_AIG))\n",
    "ss_res=ss_tot=0\n",
    "for k in range(0,len(one)):\n",
    "    ss_tot=ss_tot+np.power((exreturn_AIG.iloc[k]-exreturn_AIG.mean(0)),2)\n",
    "    ss_res=ss_res+np.power(exreturn_AIG.iloc[k]-(Beta_AIG[0]+exreturn_SP500.iloc[k]*Beta_AIG[1]),2)/n\n",
    "R_squared_AIG=1-ss_res/ss_tot\n",
    "print(\"Result for MCD:\")\n",
    "print(\"Alpha=\",Beta_AIG[0])\n",
    "print(\"Beta=\",Beta_AIG[1])\n",
    "print(\"R squared=\",R_squared_AIG)"
   ]
  },
  {
   "cell_type": "code",
   "execution_count": 115,
   "metadata": {},
   "outputs": [
    {
     "name": "stdout",
     "output_type": "stream",
     "text": [
      "Alpha MCD:  0.000632989266854\n",
      "Beta MCD:  [ 0.35770299]\n"
     ]
    }
   ],
   "source": [
    "# CHECK: using statistics package\n",
    "import statsmodels.formula.api as sm\n",
    "frames = [exreturn_MCD, exreturn_SP500]\n",
    "df = pd.concat(frames, axis=1)\n",
    "from sklearn import linear_model\n",
    "reg = linear_model.LinearRegression()\n",
    "reg.fit(df[[0]], df[1])\n",
    "print(\"Alpha MCD: \",reg.intercept_)\n",
    "print(\"Beta MCD: \",reg.coef_)\n"
   ]
  },
  {
   "cell_type": "raw",
   "metadata": {},
   "source": [
    "(b) We first compute the Beta_CAPM:"
   ]
  },
  {
   "cell_type": "code",
   "execution_count": 18,
   "metadata": {},
   "outputs": [
    {
     "name": "stdout",
     "output_type": "stream",
     "text": [
      "Beta_CAPM_MCD:  2.3360242747443967\n",
      "Beta_CAPM_LUV:  3.2922622087939692\n",
      "Beta_CAPM_AIG:  2.5084418367081933\n"
     ]
    }
   ],
   "source": [
    "Beta_CAPM_MCD=exreturn_MCD.mean(0)/exreturn_SP500.mean(0)\n",
    "Beta_CAPM_LUV=exreturn_LUV.mean(0)/exreturn_SP500.mean(0)\n",
    "Beta_CAPM_AIG=exreturn_AIG.mean(0)/exreturn_SP500.mean(0)\n",
    "print(\"Beta_CAPM_MCD: \",Beta_CAPM_MCD)\n",
    "print(\"Beta_CAPM_LUV: \",Beta_CAPM_LUV)\n",
    "print(\"Beta_CAPM_AIG: \",Beta_CAPM_AIG)"
   ]
  },
  {
   "cell_type": "raw",
   "metadata": {},
   "source": [
    "Forecast if the SP500 increases by 2.2%"
   ]
  },
  {
   "cell_type": "code",
   "execution_count": 22,
   "metadata": {},
   "outputs": [
    {
     "name": "stdout",
     "output_type": "stream",
     "text": [
      "Expected excess returns in bps\n",
      "ex_CAPM_MCD:  4.729865150288718\n",
      "ex_CAPM_LUV:  6.66600790725559\n",
      "ex_CAPM_AIG:  5.0789676088749145\n",
      "ex_LR_MCD:  2.02831124532\n",
      "ex_LR_LUV:  2.90650799052\n",
      "ex_LR_AIG:  4.19385029413\n"
     ]
    }
   ],
   "source": [
    "# We compute the excess return\n",
    "SP_increase=0.022-rf_return.mean(0)\n",
    "print(\"Expected excess returns in bps\")\n",
    "#CAPM\n",
    "ex_CAPM_MCD=Beta_CAPM_MCD*SP_increase\n",
    "ex_CAPM_LUV=Beta_CAPM_LUV*SP_increase\n",
    "ex_CAPM_AIG=Beta_CAPM_AIG*SP_increase\n",
    "print(\"ex_CAPM_MCD: \",ex_CAPM_MCD*100)\n",
    "print(\"ex_CAPM_LUV: \",ex_CAPM_LUV*100)\n",
    "print(\"ex_CAPM_AIG: \",ex_CAPM_AIG*100)\n",
    "# Linear regression\n",
    "ex_LR_MCD=Beta_MCD[1]*SP_increase+Beta_MCD[0]\n",
    "ex_LR_LUV=Beta_LUV[1]*SP_increase+Beta_LUV[0]\n",
    "ex_LR_AIG=Beta_AIG[1]*SP_increase+Beta_AIG[0]\n",
    "print(\"ex_LR_MCD: \",ex_LR_MCD*100)\n",
    "print(\"ex_LR_LUV: \",ex_LR_LUV*100)\n",
    "print(\"ex_LR_AIG: \",ex_LR_AIG*100)"
   ]
  },
  {
   "cell_type": "raw",
   "metadata": {},
   "source": [
    "(c) 1. We only keep the 10 first years\n",
    "    2. We compute the returns vector and the matrix covariance for the risky assets only\n",
    "    3. w=inv(Var(Re))E(Re) is an MVF"
   ]
  },
  {
   "cell_type": "code",
   "execution_count": 23,
   "metadata": {},
   "outputs": [
    {
     "name": "stdout",
     "output_type": "stream",
     "text": [
      "weight MCD:  0.125903162753\n",
      "weight LUV:  0.448313500412\n",
      "weight AIG:  0.425783336835\n"
     ]
    }
   ],
   "source": [
    "data_pre = data[data['Period'] < 20070131] \n",
    "rf_return_2=data_pre.iloc[:,2]\n",
    "exreturn_SP500_2=data_pre.iloc[:,1]-rf_return\n",
    "exreturn_MCD_2=data_pre.iloc[:,3]-rf_return\n",
    "exreturn_LUV_2=data_pre.iloc[:,4]-rf_return\n",
    "exreturn_AIG_2=data_pre.iloc[:,5]-rf_return\n",
    "frames_2=[exreturn_MCD_2, exreturn_LUV_2,exreturn_AIG_2]\n",
    "df = pd.concat(frames_2, axis=1)\n",
    "returns_vector=df.mean(0)\n",
    "covariance_matrix_2=df.cov(0)\n",
    "MVF_weights=np.dot(np.linalg.inv(covariance_matrix_2),returns_vector)\n",
    "MVF_weights=MVF_weights/sum(MVF_weights)\n",
    "print(\"weight MCD: \",MVF_weights[0])\n",
    "print(\"weight LUV: \",MVF_weights[1])\n",
    "print(\"weight AIG: \",MVF_weights[2])\n"
   ]
  },
  {
   "cell_type": "code",
   "execution_count": 24,
   "metadata": {},
   "outputs": [
    {
     "name": "stdout",
     "output_type": "stream",
     "text": [
      "Mean:  0.00973460965992\n",
      "StDev:  0.06386778230473272\n",
      "Annualized Mean:  1.12327710927\n",
      "Annualized StDev:  0.2212444878370911\n"
     ]
    }
   ],
   "source": [
    "Mean=sum(MVF_weights*returns_vector)\n",
    "print(\"Mean: \", Mean)\n",
    "Variance=np.dot(np.dot(MVF_weights.T,covariance_matrix_2),MVF_weights)\n",
    "StDev=math.sqrt(Variance)\n",
    "print(\"StDev: \", StDev)\n",
    "# Annualized\n",
    "print(\"Annualized Mean: \", np.power(1+Mean,12))\n",
    "print(\"Annualized StDev: \", StDev*math.sqrt(12))"
   ]
  },
  {
   "cell_type": "raw",
   "metadata": {},
   "source": [
    "(d)"
   ]
  },
  {
   "cell_type": "code",
   "execution_count": 26,
   "metadata": {},
   "outputs": [
    {
     "name": "stdout",
     "output_type": "stream",
     "text": [
      "Beta_portfolio:  0.944010668512\n",
      "exreturn_SP500_2.mean(0) 0.0034572833333333317\n",
      "Beta CAPM:  2.81568177131\n"
     ]
    }
   ],
   "source": [
    "frames_22=[exreturn_MCD_2, exreturn_LUV_2,exreturn_AIG_2,exreturn_SP500_2]\n",
    "df_22 = pd.concat(frames_22, axis=1)\n",
    "covariance_matrix_22=df_22.cov(0)\n",
    "Cov_22=np.dot(np.dot((np.asarray(MVF_weights.tolist()+[0])),covariance_matrix_22),np.asarray([0,0,0,1]).T)\n",
    "Beta_portfolio=Cov_22/exreturn_SP500_2.var(0)\n",
    "print(\"Beta_portfolio: \",Beta_portfolio)\n",
    "\n",
    "print(\"exreturn_SP500_2.mean(0)\",exreturn_SP500_2.mean(0))\n",
    "print(\"Beta CAPM: \",Mean/exreturn_SP500_2.mean(0))\n",
    "####NE FONCTIONNE PAS => REPRENDRE EXO 2"
   ]
  },
  {
   "cell_type": "code",
   "execution_count": 177,
   "metadata": {},
   "outputs": [
    {
     "data": {
      "text/plain": [
       "0.0018443815512203085"
      ]
     },
     "execution_count": 177,
     "metadata": {},
     "output_type": "execute_result"
    }
   ],
   "source": [
    "exreturn_SP500_2.mean(0)"
   ]
  },
  {
   "cell_type": "code",
   "execution_count": 176,
   "metadata": {},
   "outputs": [
    {
     "data": {
      "text/html": [
       "<div>\n",
       "<style>\n",
       "    .dataframe thead tr:only-child th {\n",
       "        text-align: right;\n",
       "    }\n",
       "\n",
       "    .dataframe thead th {\n",
       "        text-align: left;\n",
       "    }\n",
       "\n",
       "    .dataframe tbody tr th {\n",
       "        vertical-align: top;\n",
       "    }\n",
       "</style>\n",
       "<table border=\"1\" class=\"dataframe\">\n",
       "  <thead>\n",
       "    <tr style=\"text-align: right;\">\n",
       "      <th></th>\n",
       "      <th>0</th>\n",
       "      <th>1</th>\n",
       "      <th>2</th>\n",
       "      <th>3</th>\n",
       "    </tr>\n",
       "  </thead>\n",
       "  <tbody>\n",
       "    <tr>\n",
       "      <th>0</th>\n",
       "      <td>0.005793</td>\n",
       "      <td>0.002174</td>\n",
       "      <td>0.002503</td>\n",
       "      <td>0.001773</td>\n",
       "    </tr>\n",
       "    <tr>\n",
       "      <th>1</th>\n",
       "      <td>0.002174</td>\n",
       "      <td>0.008091</td>\n",
       "      <td>0.002316</td>\n",
       "      <td>0.001749</td>\n",
       "    </tr>\n",
       "    <tr>\n",
       "      <th>2</th>\n",
       "      <td>0.002503</td>\n",
       "      <td>0.002316</td>\n",
       "      <td>0.005312</td>\n",
       "      <td>0.001966</td>\n",
       "    </tr>\n",
       "    <tr>\n",
       "      <th>3</th>\n",
       "      <td>0.001773</td>\n",
       "      <td>0.001749</td>\n",
       "      <td>0.001966</td>\n",
       "      <td>0.001954</td>\n",
       "    </tr>\n",
       "  </tbody>\n",
       "</table>\n",
       "</div>"
      ],
      "text/plain": [
       "          0         1         2         3\n",
       "0  0.005793  0.002174  0.002503  0.001773\n",
       "1  0.002174  0.008091  0.002316  0.001749\n",
       "2  0.002503  0.002316  0.005312  0.001966\n",
       "3  0.001773  0.001749  0.001966  0.001954"
      ]
     },
     "execution_count": 176,
     "metadata": {},
     "output_type": "execute_result"
    }
   ],
   "source": []
  },
  {
   "cell_type": "code",
   "execution_count": null,
   "metadata": {
    "collapsed": true
   },
   "outputs": [],
   "source": []
  }
 ],
 "metadata": {
  "kernelspec": {
   "display_name": "Python 3",
   "language": "python",
   "name": "python3"
  },
  "language_info": {
   "codemirror_mode": {
    "name": "ipython",
    "version": 3
   },
   "file_extension": ".py",
   "mimetype": "text/x-python",
   "name": "python",
   "nbconvert_exporter": "python",
   "pygments_lexer": "ipython3",
   "version": "3.6.3"
  }
 },
 "nbformat": 4,
 "nbformat_minor": 2
}
